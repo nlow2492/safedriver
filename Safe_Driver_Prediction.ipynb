{
 "cells": [
  {
   "cell_type": "markdown",
   "metadata": {},
   "source": [
    "# Kaggle Supervised Classification Machine Learning Project\n",
    "## Porto Seguru's Safe Driver Prediction\n",
    "\n",
    "Nothing ruins the thrill of buying a brand new car more quickly than seeing your new insurance bill. The sting’s even more painful when you know you’re a good driver. It doesn’t seem fair that you have to pay so much if you’ve been cautious on the road for years.\n",
    "\n",
    "Porto Seguro, one of Brazil’s largest auto and homeowner insurance companies, completely agrees. Inaccuracies in car insurance company’s claim predictions raise the cost of insurance for good drivers and reduce the price for bad ones.\n",
    "\n",
    "In this competition, you’re challenged to build a model that predicts the probability that a driver will initiate an auto insurance claim in the next year. While Porto Seguro has used machine learning for the past 20 years, they’re looking to Kaggle’s machine learning community to explore new, more powerful methods. A more accurate prediction will allow them to further tailor their prices, and hopefully make auto insurance coverage more accessible to more drivers."
   ]
  },
  {
   "cell_type": "markdown",
   "metadata": {},
   "source": [
    "## Importing Data"
   ]
  },
  {
   "cell_type": "code",
   "execution_count": 1,
   "metadata": {
    "collapsed": false
   },
   "outputs": [
    {
     "name": "stdout",
     "output_type": "stream",
     "text": [
      "Training dataset has 595212 rows of data with 59 variables each.\n",
      "Testing dataset has 892816 rows of data with 58 variables each.\n"
     ]
    }
   ],
   "source": [
    "# Author: Nicholas Low\n",
    "# Date Started: 10/14/2017\n",
    "\n",
    "import numpy as np\n",
    "import pandas as pd\n",
    "import matplotlib.pyplot as plt\n",
    "from sklearn import model_selection\n",
    "from sklearn.ensemble import RandomForestClassifier\n",
    "from sklearn.ensemble import AdaBoostClassifier\n",
    "%matplotlib inline\n",
    "\n",
    "# Training Data\n",
    "train_df = pd.read_csv('Data/train.csv')\n",
    "train_y = train_df['target']\n",
    "train_x = train_df.drop(['id','target'], axis =1)\n",
    "# Final Submission Test Data\n",
    "submit_df = pd.read_csv('Data/test.csv')\n",
    "\n",
    "# Success Check\n",
    "print \"Training dataset has {} rows of data with {} variables each.\".format(*train_df.shape)\n",
    "print \"Testing dataset has {} rows of data with {} variables each.\".format(*submit_df.shape)"
   ]
  },
  {
   "cell_type": "markdown",
   "metadata": {},
   "source": [
    "## Data Exploration\n",
    "There are 58 features and 1 target. The target value is listed as 'target'. The other input variables consist of 58 variables that belong to similar groupings are tagged as such in the feature names (e.g., ind, reg, car, calc). In addition, feature names include the postfix bin to indicate binary features and cat to indicate categorical features. Features without these designations are either continuous or ordinal. Values of -1 indicate that the feature was missing from the observation. The target columns signifies whether or not a claim was filed for that policy holder."
   ]
  },
  {
   "cell_type": "code",
   "execution_count": 2,
   "metadata": {
    "collapsed": false
   },
   "outputs": [
    {
     "name": "stdout",
     "output_type": "stream",
     "text": [
      "0         0\n",
      "1         0\n",
      "2         0\n",
      "3         0\n",
      "4         0\n",
      "5         0\n",
      "6         0\n",
      "7         0\n",
      "8         0\n",
      "9         1\n",
      "10        0\n",
      "11        0\n",
      "12        0\n",
      "13        0\n",
      "14        0\n",
      "15        0\n",
      "16        0\n",
      "17        0\n",
      "18        0\n",
      "19        1\n",
      "20        0\n",
      "21        0\n",
      "22        0\n",
      "23        0\n",
      "24        0\n",
      "25        0\n",
      "26        0\n",
      "27        0\n",
      "28        1\n",
      "29        0\n",
      "         ..\n",
      "595182    0\n",
      "595183    0\n",
      "595184    0\n",
      "595185    0\n",
      "595186    0\n",
      "595187    0\n",
      "595188    0\n",
      "595189    0\n",
      "595190    0\n",
      "595191    0\n",
      "595192    0\n",
      "595193    0\n",
      "595194    0\n",
      "595195    0\n",
      "595196    0\n",
      "595197    0\n",
      "595198    0\n",
      "595199    0\n",
      "595200    0\n",
      "595201    0\n",
      "595202    0\n",
      "595203    0\n",
      "595204    0\n",
      "595205    0\n",
      "595206    0\n",
      "595207    0\n",
      "595208    0\n",
      "595209    0\n",
      "595210    0\n",
      "595211    0\n",
      "Name: target, dtype: int64\n"
     ]
    }
   ],
   "source": [
    "print train_y"
   ]
  },
  {
   "cell_type": "markdown",
   "metadata": {},
   "source": [
    "### Variable Identification"
   ]
  },
  {
   "cell_type": "code",
   "execution_count": 3,
   "metadata": {
    "collapsed": false
   },
   "outputs": [
    {
     "name": "stdout",
     "output_type": "stream",
     "text": [
      "id                  int64\n",
      "target              int64\n",
      "ps_ind_01           int64\n",
      "ps_ind_02_cat       int64\n",
      "ps_ind_03           int64\n",
      "ps_ind_04_cat       int64\n",
      "ps_ind_05_cat       int64\n",
      "ps_ind_06_bin       int64\n",
      "ps_ind_07_bin       int64\n",
      "ps_ind_08_bin       int64\n",
      "ps_ind_09_bin       int64\n",
      "ps_ind_10_bin       int64\n",
      "ps_ind_11_bin       int64\n",
      "ps_ind_12_bin       int64\n",
      "ps_ind_13_bin       int64\n",
      "ps_ind_14           int64\n",
      "ps_ind_15           int64\n",
      "ps_ind_16_bin       int64\n",
      "ps_ind_17_bin       int64\n",
      "ps_ind_18_bin       int64\n",
      "ps_reg_01         float64\n",
      "ps_reg_02         float64\n",
      "ps_reg_03         float64\n",
      "ps_car_01_cat       int64\n",
      "ps_car_02_cat       int64\n",
      "ps_car_03_cat       int64\n",
      "ps_car_04_cat       int64\n",
      "ps_car_05_cat       int64\n",
      "ps_car_06_cat       int64\n",
      "ps_car_07_cat       int64\n",
      "ps_car_08_cat       int64\n",
      "ps_car_09_cat       int64\n",
      "ps_car_10_cat       int64\n",
      "ps_car_11_cat       int64\n",
      "ps_car_11           int64\n",
      "ps_car_12         float64\n",
      "ps_car_13         float64\n",
      "ps_car_14         float64\n",
      "ps_car_15         float64\n",
      "ps_calc_01        float64\n",
      "ps_calc_02        float64\n",
      "ps_calc_03        float64\n",
      "ps_calc_04          int64\n",
      "ps_calc_05          int64\n",
      "ps_calc_06          int64\n",
      "ps_calc_07          int64\n",
      "ps_calc_08          int64\n",
      "ps_calc_09          int64\n",
      "ps_calc_10          int64\n",
      "ps_calc_11          int64\n",
      "ps_calc_12          int64\n",
      "ps_calc_13          int64\n",
      "ps_calc_14          int64\n",
      "ps_calc_15_bin      int64\n",
      "ps_calc_16_bin      int64\n",
      "ps_calc_17_bin      int64\n",
      "ps_calc_18_bin      int64\n",
      "ps_calc_19_bin      int64\n",
      "ps_calc_20_bin      int64\n",
      "dtype: object\n",
      "# of binary and categorical features respectively 17 and 14\n",
      "# of continous or ordinal features is 27 and 10 are continous and 17 are ordinal\n"
     ]
    }
   ],
   "source": [
    "features = list(train_df)\n",
    "merge_features = '-'.join(features)\n",
    "print train_df.dtypes\n",
    "print '# of binary and categorical features respectively ' + str(merge_features.count('bin')) + ' and ' + str(merge_features.count('cat'))\n",
    "print '# of continous or ordinal features is '+ str(58-(17+14)) + ' and 10 are continous and 17 are ordinal'"
   ]
  },
  {
   "cell_type": "code",
   "execution_count": 4,
   "metadata": {
    "collapsed": false
   },
   "outputs": [
    {
     "name": "stdout",
     "output_type": "stream",
     "text": [
      "   ps_ind_02_cat  ps_ind_04_cat  ps_ind_05_cat  ps_car_01_cat  ps_car_02_cat  \\\n",
      "0              1              0              0             11              1   \n",
      "\n",
      "   ps_car_03_cat  ps_car_04_cat  ps_car_05_cat  ps_car_06_cat  ps_car_07_cat  \\\n",
      "0             -1              0             -1             11              1   \n",
      "\n",
      "   ps_car_08_cat  ps_car_09_cat  ps_car_10_cat  ps_car_11_cat  \n",
      "0              1              2              1            104  \n"
     ]
    }
   ],
   "source": [
    "bin_df = train_x.filter(like='bin', axis =1)\n",
    "#Grab all categorical data\n",
    "cat_df = train_x.filter(like='cat', axis =1)\n",
    "#Grab all continuous data\n",
    "cont_df = train_x.select_dtypes(include=['float64'])\n",
    "#Grab all ordinal data\n",
    "ord_df = train_x[train_x.columns.difference(list(bin_df)+list(cat_df)+list(cont_df))]\n",
    "\n",
    "print cat_df.mode()"
   ]
  },
  {
   "cell_type": "markdown",
   "metadata": {},
   "source": [
    "### Univariate Analysis"
   ]
  },
  {
   "cell_type": "code",
   "execution_count": 5,
   "metadata": {
    "collapsed": false
   },
   "outputs": [
    {
     "data": {
      "text/html": [
       "<div>\n",
       "<table border=\"1\" class=\"dataframe\">\n",
       "  <thead>\n",
       "    <tr style=\"text-align: right;\">\n",
       "      <th></th>\n",
       "      <th>ps_reg_01</th>\n",
       "      <th>ps_reg_02</th>\n",
       "      <th>ps_reg_03</th>\n",
       "      <th>ps_car_12</th>\n",
       "      <th>ps_car_13</th>\n",
       "      <th>ps_car_14</th>\n",
       "      <th>ps_car_15</th>\n",
       "      <th>ps_calc_01</th>\n",
       "      <th>ps_calc_02</th>\n",
       "      <th>ps_calc_03</th>\n",
       "    </tr>\n",
       "  </thead>\n",
       "  <tbody>\n",
       "    <tr>\n",
       "      <th>count</th>\n",
       "      <td>595212.000000</td>\n",
       "      <td>595212.000000</td>\n",
       "      <td>595212.000000</td>\n",
       "      <td>595212.000000</td>\n",
       "      <td>595212.000000</td>\n",
       "      <td>595212.000000</td>\n",
       "      <td>595212.000000</td>\n",
       "      <td>595212.000000</td>\n",
       "      <td>595212.000000</td>\n",
       "      <td>595212.000000</td>\n",
       "    </tr>\n",
       "    <tr>\n",
       "      <th>mean</th>\n",
       "      <td>0.610991</td>\n",
       "      <td>0.439184</td>\n",
       "      <td>0.551102</td>\n",
       "      <td>0.379945</td>\n",
       "      <td>0.813265</td>\n",
       "      <td>0.276256</td>\n",
       "      <td>3.065899</td>\n",
       "      <td>0.449756</td>\n",
       "      <td>0.449589</td>\n",
       "      <td>0.449849</td>\n",
       "    </tr>\n",
       "    <tr>\n",
       "      <th>std</th>\n",
       "      <td>0.287643</td>\n",
       "      <td>0.404264</td>\n",
       "      <td>0.793506</td>\n",
       "      <td>0.058327</td>\n",
       "      <td>0.224588</td>\n",
       "      <td>0.357154</td>\n",
       "      <td>0.731366</td>\n",
       "      <td>0.287198</td>\n",
       "      <td>0.286893</td>\n",
       "      <td>0.287153</td>\n",
       "    </tr>\n",
       "    <tr>\n",
       "      <th>min</th>\n",
       "      <td>0.000000</td>\n",
       "      <td>0.000000</td>\n",
       "      <td>-1.000000</td>\n",
       "      <td>-1.000000</td>\n",
       "      <td>0.250619</td>\n",
       "      <td>-1.000000</td>\n",
       "      <td>0.000000</td>\n",
       "      <td>0.000000</td>\n",
       "      <td>0.000000</td>\n",
       "      <td>0.000000</td>\n",
       "    </tr>\n",
       "    <tr>\n",
       "      <th>25%</th>\n",
       "      <td>0.400000</td>\n",
       "      <td>0.200000</td>\n",
       "      <td>0.525000</td>\n",
       "      <td>0.316228</td>\n",
       "      <td>0.670867</td>\n",
       "      <td>0.333167</td>\n",
       "      <td>2.828427</td>\n",
       "      <td>0.200000</td>\n",
       "      <td>0.200000</td>\n",
       "      <td>0.200000</td>\n",
       "    </tr>\n",
       "    <tr>\n",
       "      <th>50%</th>\n",
       "      <td>0.700000</td>\n",
       "      <td>0.300000</td>\n",
       "      <td>0.720677</td>\n",
       "      <td>0.374166</td>\n",
       "      <td>0.765811</td>\n",
       "      <td>0.368782</td>\n",
       "      <td>3.316625</td>\n",
       "      <td>0.500000</td>\n",
       "      <td>0.400000</td>\n",
       "      <td>0.500000</td>\n",
       "    </tr>\n",
       "    <tr>\n",
       "      <th>75%</th>\n",
       "      <td>0.900000</td>\n",
       "      <td>0.600000</td>\n",
       "      <td>1.000000</td>\n",
       "      <td>0.400000</td>\n",
       "      <td>0.906190</td>\n",
       "      <td>0.396485</td>\n",
       "      <td>3.605551</td>\n",
       "      <td>0.700000</td>\n",
       "      <td>0.700000</td>\n",
       "      <td>0.700000</td>\n",
       "    </tr>\n",
       "    <tr>\n",
       "      <th>max</th>\n",
       "      <td>0.900000</td>\n",
       "      <td>1.800000</td>\n",
       "      <td>4.037945</td>\n",
       "      <td>1.264911</td>\n",
       "      <td>3.720626</td>\n",
       "      <td>0.636396</td>\n",
       "      <td>3.741657</td>\n",
       "      <td>0.900000</td>\n",
       "      <td>0.900000</td>\n",
       "      <td>0.900000</td>\n",
       "    </tr>\n",
       "  </tbody>\n",
       "</table>\n",
       "</div>"
      ],
      "text/plain": [
       "           ps_reg_01      ps_reg_02      ps_reg_03      ps_car_12  \\\n",
       "count  595212.000000  595212.000000  595212.000000  595212.000000   \n",
       "mean        0.610991       0.439184       0.551102       0.379945   \n",
       "std         0.287643       0.404264       0.793506       0.058327   \n",
       "min         0.000000       0.000000      -1.000000      -1.000000   \n",
       "25%         0.400000       0.200000       0.525000       0.316228   \n",
       "50%         0.700000       0.300000       0.720677       0.374166   \n",
       "75%         0.900000       0.600000       1.000000       0.400000   \n",
       "max         0.900000       1.800000       4.037945       1.264911   \n",
       "\n",
       "           ps_car_13      ps_car_14      ps_car_15     ps_calc_01  \\\n",
       "count  595212.000000  595212.000000  595212.000000  595212.000000   \n",
       "mean        0.813265       0.276256       3.065899       0.449756   \n",
       "std         0.224588       0.357154       0.731366       0.287198   \n",
       "min         0.250619      -1.000000       0.000000       0.000000   \n",
       "25%         0.670867       0.333167       2.828427       0.200000   \n",
       "50%         0.765811       0.368782       3.316625       0.500000   \n",
       "75%         0.906190       0.396485       3.605551       0.700000   \n",
       "max         3.720626       0.636396       3.741657       0.900000   \n",
       "\n",
       "          ps_calc_02     ps_calc_03  \n",
       "count  595212.000000  595212.000000  \n",
       "mean        0.449589       0.449849  \n",
       "std         0.286893       0.287153  \n",
       "min         0.000000       0.000000  \n",
       "25%         0.200000       0.200000  \n",
       "50%         0.400000       0.500000  \n",
       "75%         0.700000       0.700000  \n",
       "max         0.900000       0.900000  "
      ]
     },
     "execution_count": 5,
     "metadata": {},
     "output_type": "execute_result"
    }
   ],
   "source": [
    "cont_df.describe()"
   ]
  },
  {
   "cell_type": "code",
   "execution_count": 6,
   "metadata": {
    "collapsed": false
   },
   "outputs": [
    {
     "name": "stderr",
     "output_type": "stream",
     "text": [
      "C:\\Users\\Nicholas\\Anaconda2\\lib\\site-packages\\IPython\\core\\interactiveshell.py:2881: UserWarning: To output multiple subplots, the figure containing the passed axes is being cleared\n",
      "  exec(code_obj, self.user_global_ns, self.user_ns)\n"
     ]
    },
    {
     "data": {
      "text/plain": [
       "array([[<matplotlib.axes._subplots.AxesSubplot object at 0x000000000C5CDFD0>,\n",
       "        <matplotlib.axes._subplots.AxesSubplot object at 0x0000000012D93CC0>,\n",
       "        <matplotlib.axes._subplots.AxesSubplot object at 0x000000002223C710>],\n",
       "       [<matplotlib.axes._subplots.AxesSubplot object at 0x0000000014BFEE80>,\n",
       "        <matplotlib.axes._subplots.AxesSubplot object at 0x000000004671B8D0>,\n",
       "        <matplotlib.axes._subplots.AxesSubplot object at 0x00000000475EFEB8>],\n",
       "       [<matplotlib.axes._subplots.AxesSubplot object at 0x00000000484A9748>,\n",
       "        <matplotlib.axes._subplots.AxesSubplot object at 0x0000000020BBC2E8>,\n",
       "        <matplotlib.axes._subplots.AxesSubplot object at 0x0000000011B3AF28>],\n",
       "       [<matplotlib.axes._subplots.AxesSubplot object at 0x0000000019A720F0>,\n",
       "        <matplotlib.axes._subplots.AxesSubplot object at 0x000000002FE07D30>,\n",
       "        <matplotlib.axes._subplots.AxesSubplot object at 0x000000001A662780>]], dtype=object)"
      ]
     },
     "execution_count": 6,
     "metadata": {},
     "output_type": "execute_result"
    },
    {
     "data": {
      "image/png": "[encoded data removed]",
      "text/plain": [
       "<matplotlib.figure.Figure at 0xc5cd978>"
      ]
     },
     "metadata": {},
     "output_type": "display_data"
    }
   ],
   "source": [
    "#Histogram of continuous value to see distribution of values\n",
    "fig = plt.figure(figsize = (15,15))\n",
    "ax = fig.gca()\n",
    "cont_df.hist(ax=ax)"
   ]
  },
  {
   "cell_type": "code",
   "execution_count": 7,
   "metadata": {
    "collapsed": false
   },
   "outputs": [
    {
     "data": {
      "text/plain": [
       "array([[<matplotlib.axes._subplots.AxesSubplot object at 0x000000000D14A518>,\n",
       "        <matplotlib.axes._subplots.AxesSubplot object at 0x000000001A8D1DA0>,\n",
       "        <matplotlib.axes._subplots.AxesSubplot object at 0x00000000210D35F8>,\n",
       "        <matplotlib.axes._subplots.AxesSubplot object at 0x0000000021106B38>],\n",
       "       [<matplotlib.axes._subplots.AxesSubplot object at 0x0000000016D0EE48>,\n",
       "        <matplotlib.axes._subplots.AxesSubplot object at 0x000000001DC4A7B8>,\n",
       "        <matplotlib.axes._subplots.AxesSubplot object at 0x000000001522F048>,\n",
       "        <matplotlib.axes._subplots.AxesSubplot object at 0x0000000031C8AA58>],\n",
       "       [<matplotlib.axes._subplots.AxesSubplot object at 0x000000000D3902B0>,\n",
       "        <matplotlib.axes._subplots.AxesSubplot object at 0x0000000012939E48>,\n",
       "        <matplotlib.axes._subplots.AxesSubplot object at 0x0000000049A5E5F8>,\n",
       "        <matplotlib.axes._subplots.AxesSubplot object at 0x000000000CB970F0>],\n",
       "       [<matplotlib.axes._subplots.AxesSubplot object at 0x0000000031CF5C88>,\n",
       "        <matplotlib.axes._subplots.AxesSubplot object at 0x0000000015687358>,\n",
       "        <matplotlib.axes._subplots.AxesSubplot object at 0x0000000010B90BE0>,\n",
       "        <matplotlib.axes._subplots.AxesSubplot object at 0x0000000013796390>]], dtype=object)"
      ]
     },
     "execution_count": 7,
     "metadata": {},
     "output_type": "execute_result"
    },
    {
     "data": {
      "image/png": "[encoded data removed]",
      "text/plain": [
       "<matplotlib.figure.Figure at 0xd14a7b8>"
      ]
     },
     "metadata": {},
     "output_type": "display_data"
    }
   ],
   "source": [
    "fig1 = plt.figure(figsize = (15,15))\n",
    "ax1 = fig1.gca()\n",
    "cat_df.hist(ax=ax1)"
   ]
  },
  {
   "cell_type": "markdown",
   "metadata": {},
   "source": [
    "### Bivariate Analysis\n",
    "\n",
    "Correlation Analysis: Features should be uncorrelated with each other otherwise one of the features isn't adding that much more to your model. Features correlating with the target variable add more to the model."
   ]
  },
  {
   "cell_type": "code",
   "execution_count": 8,
   "metadata": {
    "collapsed": false
   },
   "outputs": [
    {
     "name": "stdout",
     "output_type": "stream",
     "text": [
      "                      id    target  ps_ind_01  ps_ind_02_cat  ps_ind_03  \\\n",
      "id              1.000000 -0.000188   0.000826       0.001646  -0.001307   \n",
      "target         -0.000188  1.000000   0.018570       0.004534   0.008360   \n",
      "ps_ind_01       0.000826  0.018570   1.000000      -0.001793   0.223408   \n",
      "ps_ind_02_cat   0.001646  0.004534  -0.001793       1.000000  -0.061189   \n",
      "ps_ind_03      -0.001307  0.008360   0.223408      -0.061189   1.000000   \n",
      "ps_ind_04_cat   0.000168  0.009360   0.066645       0.147110  -0.095856   \n",
      "ps_ind_05_cat   0.000022  0.029165   0.014823      -0.014860   0.053250   \n",
      "ps_ind_06_bin  -0.000093 -0.034017  -0.277458      -0.125653  -0.045158   \n",
      "ps_ind_07_bin   0.002473  0.034218   0.005700       0.016398  -0.060368   \n",
      "ps_ind_08_bin  -0.000479  0.013147   0.188583       0.030945   0.014037   \n",
      "ps_ind_09_bin  -0.002208 -0.008237   0.162800       0.110076   0.111306   \n",
      "ps_ind_10_bin  -0.001261  0.001815   0.001847      -0.000744   0.006865   \n",
      "ps_ind_11_bin  -0.001210  0.002028  -0.016727       0.000772  -0.003986   \n",
      "ps_ind_12_bin  -0.000177  0.007810  -0.023406      -0.004616   0.001698   \n",
      "ps_ind_13_bin  -0.001718  0.002460  -0.008776      -0.001187   0.003929   \n",
      "ps_ind_14      -0.001129  0.007443  -0.024971      -0.003649   0.001990   \n",
      "ps_ind_15      -0.001935 -0.021506   0.122137      -0.003854   0.170449   \n",
      "ps_ind_16_bin  -0.000500 -0.027778   0.036896       0.012682  -0.018251   \n",
      "ps_ind_17_bin   0.001344  0.037053   0.101257      -0.018727   0.027691   \n",
      "ps_ind_18_bin   0.000816  0.004555  -0.112226      -0.000374   0.001316   \n",
      "ps_reg_01      -0.000999  0.022888   0.102212       0.061118   0.003209   \n",
      "ps_reg_02      -0.003829  0.034800   0.183855       0.084260   0.048338   \n",
      "ps_reg_03      -0.000976  0.030888   0.139125       0.070790   0.002348   \n",
      "ps_car_01_cat  -0.001052  0.016256  -0.056121       0.002149  -0.028520   \n",
      "ps_car_02_cat  -0.000403 -0.031534  -0.116987       0.045233  -0.044907   \n",
      "ps_car_03_cat   0.000354  0.032401   0.043756      -0.002532   0.095658   \n",
      "ps_car_04_cat   0.002310  0.032900   0.079042      -0.072190   0.072990   \n",
      "ps_car_05_cat  -0.000850  0.020754   0.213009      -0.008407   0.143597   \n",
      "ps_car_06_cat  -0.001010  0.011537   0.070192      -0.017301   0.008021   \n",
      "ps_car_07_cat  -0.002956 -0.036395  -0.000639      -0.011781   0.056337   \n",
      "ps_car_08_cat   0.000748 -0.020342   0.138112       0.001526   0.003607   \n",
      "ps_car_09_cat   0.000494  0.005322  -0.102582       0.009435  -0.013205   \n",
      "ps_car_10_cat  -0.000928  0.001038   0.010794       0.011401  -0.008561   \n",
      "ps_car_11_cat   0.002047  0.006129   0.008188       0.014955  -0.025966   \n",
      "ps_car_11       0.002641 -0.001213   0.008252       0.019949  -0.059358   \n",
      "ps_car_12       0.001007  0.038790   0.161842      -0.110247   0.088992   \n",
      "ps_car_13       0.001944  0.053899   0.099752      -0.080408   0.048308   \n",
      "ps_car_14      -0.000737 -0.004474   0.034480      -0.012272   0.000539   \n",
      "ps_car_15       0.000709  0.027667  -0.056722      -0.008391  -0.048096   \n",
      "ps_calc_01     -0.000331  0.001782  -0.000854       0.000683   0.000703   \n",
      "ps_calc_02      0.000719  0.001360  -0.000437       0.000932  -0.000335   \n",
      "ps_calc_03     -0.000451  0.001907   0.001214      -0.000322   0.000177   \n",
      "ps_calc_04      0.003638  0.000033  -0.000943      -0.002111   0.000703   \n",
      "ps_calc_05     -0.000592  0.000771  -0.001171      -0.001548  -0.001245   \n",
      "ps_calc_06      0.000957  0.000082   0.000147       0.000085   0.002361   \n",
      "ps_calc_07      0.000788 -0.000103  -0.000658      -0.000172   0.001533   \n",
      "ps_calc_08      0.000836 -0.001006   0.002993      -0.002712   0.001267   \n",
      "ps_calc_09      0.000518  0.000719  -0.000085       0.000356  -0.001544   \n",
      "ps_calc_10      0.000981  0.001061  -0.001345      -0.000025   0.000230   \n",
      "ps_calc_11     -0.001249  0.000371  -0.001263       0.000038  -0.002716   \n",
      "ps_calc_12     -0.001093 -0.001133   0.001521      -0.000884  -0.002352   \n",
      "ps_calc_13     -0.000157 -0.000446   0.000199      -0.000893   0.000133   \n",
      "ps_calc_14      0.001609  0.001362  -0.000891      -0.000519   0.000205   \n",
      "ps_calc_15_bin -0.001227 -0.000490  -0.000397      -0.000109   0.000134   \n",
      "ps_calc_16_bin -0.001412  0.000624  -0.000012       0.000920  -0.000744   \n",
      "ps_calc_17_bin -0.001267 -0.000170  -0.000868       0.000547   0.000158   \n",
      "ps_calc_18_bin -0.001387  0.000552  -0.001504       0.000824  -0.000218   \n",
      "ps_calc_19_bin  0.000194 -0.001744  -0.000162       0.000367  -0.000882   \n",
      "ps_calc_20_bin -0.001267 -0.001072  -0.001464      -0.002070  -0.003709   \n",
      "\n",
      "                ps_ind_04_cat  ps_ind_05_cat  ps_ind_06_bin  ps_ind_07_bin  \\\n",
      "id                   0.000168       0.000022      -0.000093       0.002473   \n",
      "target               0.009360       0.029165      -0.034017       0.034218   \n",
      "ps_ind_01            0.066645       0.014823      -0.277458       0.005700   \n",
      "ps_ind_02_cat        0.147110      -0.014860      -0.125653       0.016398   \n",
      "ps_ind_03           -0.095856       0.053250      -0.045158      -0.060368   \n",
      "ps_ind_04_cat        1.000000       0.013053      -0.297737       0.304949   \n",
      "ps_ind_05_cat        0.013053       1.000000       0.009619      -0.010382   \n",
      "ps_ind_06_bin       -0.297737       0.009619       1.000000      -0.474009   \n",
      "ps_ind_07_bin        0.304949      -0.010382      -0.474009       1.000000   \n",
      "ps_ind_08_bin        0.044978       0.004881      -0.356838      -0.260438   \n",
      "ps_ind_09_bin       -0.011442      -0.005069      -0.384345      -0.280513   \n",
      "ps_ind_10_bin        0.000789       0.001742      -0.008978       0.010740   \n",
      "ps_ind_11_bin        0.001018      -0.000636      -0.005229       0.010119   \n",
      "ps_ind_12_bin       -0.001217      -0.001831      -0.017499       0.036619   \n",
      "ps_ind_13_bin       -0.000893       0.001313      -0.008390       0.012125   \n",
      "ps_ind_14           -0.000691      -0.001013      -0.018334       0.035573   \n",
      "ps_ind_15            0.077071       0.012326       0.016406      -0.120729   \n",
      "ps_ind_16_bin        0.017497       0.004315       0.028352      -0.072321   \n",
      "ps_ind_17_bin        0.007830       0.007163      -0.037121       0.020776   \n",
      "ps_ind_18_bin       -0.025797      -0.008252      -0.011751       0.076562   \n",
      "ps_reg_01            0.023846      -0.017836      -0.020750      -0.030336   \n",
      "ps_reg_02            0.079471      -0.009124      -0.183432       0.076750   \n",
      "ps_reg_03            0.065702      -0.019510      -0.096757       0.013366   \n",
      "ps_car_01_cat        0.029379      -0.036213      -0.075546       0.062064   \n",
      "ps_car_02_cat        0.003162       0.012879       0.136383      -0.162601   \n",
      "ps_car_03_cat        0.022744      -0.011399      -0.075723       0.096483   \n",
      "ps_car_04_cat       -0.045361      -0.010873      -0.187017       0.199702   \n",
      "ps_car_05_cat        0.063399      -0.006562      -0.164890       0.092107   \n",
      "ps_car_06_cat        0.025324      -0.007230      -0.059887       0.021013   \n",
      "ps_car_07_cat        0.064655       0.053777       0.038994      -0.064708   \n",
      "ps_car_08_cat       -0.008148      -0.002084       0.038313      -0.123825   \n",
      "ps_car_09_cat       -0.041983      -0.008334       0.099184      -0.059229   \n",
      "ps_car_10_cat        0.023010       0.002168      -0.041057       0.030556   \n",
      "ps_car_11_cat       -0.000615      -0.002250      -0.031296       0.047940   \n",
      "ps_car_11            0.073486       0.001076       0.019618       0.067457   \n",
      "ps_car_12           -0.095160      -0.016302      -0.218117       0.208747   \n",
      "ps_car_13           -0.032233      -0.015259      -0.272210       0.347764   \n",
      "ps_car_14           -0.005596      -0.001427      -0.005695      -0.044798   \n",
      "ps_car_15            0.040480      -0.006629      -0.165981       0.196873   \n",
      "ps_calc_01          -0.002753      -0.001739       0.000183       0.000445   \n",
      "ps_calc_02          -0.000544       0.002379      -0.000318       0.000222   \n",
      "ps_calc_03           0.000270      -0.001560       0.002859       0.001112   \n",
      "ps_calc_04           0.000826       0.001292      -0.000409       0.000470   \n",
      "ps_calc_05           0.001028      -0.000642      -0.000501      -0.000203   \n",
      "ps_calc_06           0.002626      -0.000249      -0.001413       0.002257   \n",
      "ps_calc_07          -0.000151      -0.001902      -0.001553      -0.000772   \n",
      "ps_calc_08          -0.002776      -0.000145      -0.001164      -0.001417   \n",
      "ps_calc_09           0.000487      -0.000822      -0.001955       0.003103   \n",
      "ps_calc_10           0.000127      -0.001070      -0.001197       0.002764   \n",
      "ps_calc_11          -0.002001      -0.001525       0.000822      -0.000448   \n",
      "ps_calc_12          -0.000814       0.000975       0.001347      -0.001044   \n",
      "ps_calc_13           0.000283       0.001549      -0.001301       0.000541   \n",
      "ps_calc_14           0.001565       0.002171       0.000304       0.001666   \n",
      "ps_calc_15_bin       0.002735       0.001548       0.002088       0.000575   \n",
      "ps_calc_16_bin       0.002295      -0.000368      -0.000381       0.001220   \n",
      "ps_calc_17_bin       0.000773       0.000153      -0.000001      -0.000517   \n",
      "ps_calc_18_bin       0.000916       0.000032      -0.000759       0.000181   \n",
      "ps_calc_19_bin      -0.001966       0.000276       0.002791      -0.001361   \n",
      "ps_calc_20_bin       0.001244       0.000279       0.000203      -0.000961   \n",
      "\n",
      "                ps_ind_08_bin       ...        ps_calc_11  ps_calc_12  \\\n",
      "id                  -0.000479       ...         -0.001249   -0.001093   \n",
      "target               0.013147       ...          0.000371   -0.001133   \n",
      "ps_ind_01            0.188583       ...         -0.001263    0.001521   \n",
      "ps_ind_02_cat        0.030945       ...          0.000038   -0.000884   \n",
      "ps_ind_03            0.014037       ...         -0.002716   -0.002352   \n",
      "ps_ind_04_cat        0.044978       ...         -0.002001   -0.000814   \n",
      "ps_ind_05_cat        0.004881       ...         -0.001525    0.000975   \n",
      "ps_ind_06_bin       -0.356838       ...          0.000822    0.001347   \n",
      "ps_ind_07_bin       -0.260438       ...         -0.000448   -0.001044   \n",
      "ps_ind_08_bin        1.000000       ...         -0.000632   -0.001241   \n",
      "ps_ind_09_bin       -0.211173       ...          0.000072    0.000664   \n",
      "ps_ind_10_bin        0.006489       ...         -0.002349    0.001367   \n",
      "ps_ind_11_bin        0.010041       ...          0.000184   -0.000612   \n",
      "ps_ind_12_bin        0.012254       ...          0.000129    0.000813   \n",
      "ps_ind_13_bin        0.007898       ...         -0.000186   -0.001418   \n",
      "ps_ind_14            0.015413       ...         -0.000243    0.000284   \n",
      "ps_ind_15            0.052776       ...         -0.001952   -0.001263   \n",
      "ps_ind_16_bin        0.005855       ...         -0.000547    0.000479   \n",
      "ps_ind_17_bin        0.036036       ...         -0.001091   -0.000850   \n",
      "ps_ind_18_bin       -0.033273       ...          0.002111    0.001574   \n",
      "ps_reg_01           -0.136559       ...         -0.000433    0.000968   \n",
      "ps_reg_02           -0.000125       ...          0.000296    0.000925   \n",
      "ps_reg_03           -0.028470       ...         -0.000347    0.001357   \n",
      "ps_car_01_cat        0.000974       ...         -0.000425   -0.000793   \n",
      "ps_car_02_cat       -0.029989       ...         -0.000834    0.002052   \n",
      "ps_car_03_cat        0.038462       ...         -0.002695   -0.002596   \n",
      "ps_car_04_cat        0.084957       ...          0.001198    0.001721   \n",
      "ps_car_05_cat        0.063889       ...         -0.001702   -0.000359   \n",
      "ps_car_06_cat        0.063373       ...          0.001195    0.000467   \n",
      "ps_car_07_cat       -0.010976       ...          0.000503    0.000137   \n",
      "ps_car_08_cat        0.042792       ...          0.001584    0.000638   \n",
      "ps_car_09_cat       -0.010920       ...         -0.001192   -0.000467   \n",
      "ps_car_10_cat        0.025328       ...          0.001817    0.002403   \n",
      "ps_car_11_cat        0.041371       ...          0.000011   -0.000359   \n",
      "ps_car_11           -0.082193       ...         -0.001206   -0.001181   \n",
      "ps_car_12            0.098113       ...         -0.001532    0.001454   \n",
      "ps_car_13            0.049588       ...          0.000415    0.000377   \n",
      "ps_car_14            0.036413       ...          0.002811   -0.000883   \n",
      "ps_car_15            0.015942       ...          0.001074    0.000307   \n",
      "ps_calc_01          -0.000110       ...         -0.001482   -0.002083   \n",
      "ps_calc_02          -0.000415       ...         -0.000862   -0.000693   \n",
      "ps_calc_03          -0.001940       ...         -0.000379    0.000221   \n",
      "ps_calc_04          -0.000886       ...          0.000245    0.000978   \n",
      "ps_calc_05           0.000603       ...          0.000387   -0.000212   \n",
      "ps_calc_06           0.001249       ...         -0.000575    0.000607   \n",
      "ps_calc_07           0.001514       ...         -0.000109   -0.000389   \n",
      "ps_calc_08           0.000827       ...          0.002016    0.000109   \n",
      "ps_calc_09          -0.001171       ...         -0.000898   -0.001409   \n",
      "ps_calc_10          -0.001093       ...          0.000394    0.002086   \n",
      "ps_calc_11          -0.000632       ...          1.000000    0.001036   \n",
      "ps_calc_12          -0.001241       ...          0.001036    1.000000   \n",
      "ps_calc_13          -0.000432       ...          0.003702   -0.000300   \n",
      "ps_calc_14          -0.001959       ...          0.000480    0.000980   \n",
      "ps_calc_15_bin      -0.002782       ...          0.000834    0.001557   \n",
      "ps_calc_16_bin      -0.002048       ...          0.000880   -0.000913   \n",
      "ps_calc_17_bin      -0.000579       ...         -0.001235    0.003565   \n",
      "ps_calc_18_bin      -0.000068       ...         -0.000960    0.000084   \n",
      "ps_calc_19_bin      -0.000919       ...         -0.001377    0.001021   \n",
      "ps_calc_20_bin       0.000995       ...         -0.000164   -0.000582   \n",
      "\n",
      "                ps_calc_13  ps_calc_14  ps_calc_15_bin  ps_calc_16_bin  \\\n",
      "id               -0.000157    0.001609       -0.001227       -0.001412   \n",
      "target           -0.000446    0.001362       -0.000490        0.000624   \n",
      "ps_ind_01         0.000199   -0.000891       -0.000397       -0.000012   \n",
      "ps_ind_02_cat    -0.000893   -0.000519       -0.000109        0.000920   \n",
      "ps_ind_03         0.000133    0.000205        0.000134       -0.000744   \n",
      "ps_ind_04_cat     0.000283    0.001565        0.002735        0.002295   \n",
      "ps_ind_05_cat     0.001549    0.002171        0.001548       -0.000368   \n",
      "ps_ind_06_bin    -0.001301    0.000304        0.002088       -0.000381   \n",
      "ps_ind_07_bin     0.000541    0.001666        0.000575        0.001220   \n",
      "ps_ind_08_bin    -0.000432   -0.001959       -0.002782       -0.002048   \n",
      "ps_ind_09_bin     0.001439   -0.000389       -0.000621        0.001059   \n",
      "ps_ind_10_bin     0.001969    0.000232       -0.003233        0.001012   \n",
      "ps_ind_11_bin     0.000304   -0.000786       -0.000659        0.001418   \n",
      "ps_ind_12_bin     0.000559   -0.000501       -0.001632        0.001754   \n",
      "ps_ind_13_bin    -0.002125    0.000875        0.000492        0.001570   \n",
      "ps_ind_14         0.000307   -0.000387       -0.001821        0.002318   \n",
      "ps_ind_15        -0.000922    0.001348        0.000702       -0.001915   \n",
      "ps_ind_16_bin    -0.001206   -0.000167        0.000929       -0.000495   \n",
      "ps_ind_17_bin     0.000429    0.000746       -0.001590       -0.000211   \n",
      "ps_ind_18_bin     0.001992   -0.001239       -0.000379       -0.000082   \n",
      "ps_reg_01        -0.002920   -0.000177        0.000603        0.000094   \n",
      "ps_reg_02        -0.003353   -0.001903       -0.000644        0.000591   \n",
      "ps_reg_03        -0.002015   -0.000637        0.000394        0.001981   \n",
      "ps_car_01_cat     0.000874    0.000070        0.000965       -0.001068   \n",
      "ps_car_02_cat     0.001243   -0.000099       -0.000015       -0.002948   \n",
      "ps_car_03_cat     0.000859    0.001282       -0.000481       -0.000900   \n",
      "ps_car_04_cat     0.000423   -0.002339        0.001388        0.000580   \n",
      "ps_car_05_cat     0.001322    0.001864       -0.001500        0.001396   \n",
      "ps_car_06_cat    -0.002020    0.000806        0.000690        0.001205   \n",
      "ps_car_07_cat     0.001495    0.000295       -0.000438       -0.001254   \n",
      "ps_car_08_cat     0.000394   -0.001169       -0.001010        0.002096   \n",
      "ps_car_09_cat    -0.000490   -0.001092        0.000952       -0.001060   \n",
      "ps_car_10_cat     0.002988   -0.000359       -0.000835        0.001021   \n",
      "ps_car_11_cat    -0.000578    0.000248       -0.001174        0.002054   \n",
      "ps_car_11         0.001133    0.000945       -0.000703        0.000508   \n",
      "ps_car_12         0.000784   -0.000392       -0.000161        0.001197   \n",
      "ps_car_13         0.000583   -0.000574       -0.000066       -0.000145   \n",
      "ps_car_14        -0.000182   -0.002122        0.001116        0.000856   \n",
      "ps_car_15         0.002197    0.001172       -0.000032       -0.002039   \n",
      "ps_calc_01        0.000155    0.000708        0.000488        0.000111   \n",
      "ps_calc_02        0.000809    0.000333        0.000035        0.001765   \n",
      "ps_calc_03        0.001550   -0.000520        0.001323       -0.000189   \n",
      "ps_calc_04       -0.000215    0.001180        0.000172       -0.000874   \n",
      "ps_calc_05        0.000270   -0.000969        0.000079       -0.000943   \n",
      "ps_calc_06        0.000974   -0.000870        0.000631        0.000140   \n",
      "ps_calc_07       -0.000599    0.001908        0.000097       -0.001411   \n",
      "ps_calc_08       -0.000304   -0.000171       -0.000266        0.002133   \n",
      "ps_calc_09       -0.000630   -0.000066        0.000923       -0.001291   \n",
      "ps_calc_10        0.001279    0.001252       -0.000321        0.000422   \n",
      "ps_calc_11        0.003702    0.000480        0.000834        0.000880   \n",
      "ps_calc_12       -0.000300    0.000980        0.001557       -0.000913   \n",
      "ps_calc_13        1.000000   -0.002325        0.000763        0.002633   \n",
      "ps_calc_14       -0.002325    1.000000        0.001713        0.000199   \n",
      "ps_calc_15_bin    0.000763    0.001713        1.000000        0.000385   \n",
      "ps_calc_16_bin    0.002633    0.000199        0.000385        1.000000   \n",
      "ps_calc_17_bin   -0.000782   -0.001287        0.001028       -0.001670   \n",
      "ps_calc_18_bin    0.000564   -0.001063       -0.000849        0.000736   \n",
      "ps_calc_19_bin    0.001945   -0.000076        0.000835        0.000077   \n",
      "ps_calc_20_bin   -0.001649   -0.000477        0.002869       -0.000085   \n",
      "\n",
      "                ps_calc_17_bin  ps_calc_18_bin  ps_calc_19_bin  ps_calc_20_bin  \n",
      "id                   -0.001267       -0.001387        0.000194       -0.001267  \n",
      "target               -0.000170        0.000552       -0.001744       -0.001072  \n",
      "ps_ind_01            -0.000868       -0.001504       -0.000162       -0.001464  \n",
      "ps_ind_02_cat         0.000547        0.000824        0.000367       -0.002070  \n",
      "ps_ind_03             0.000158       -0.000218       -0.000882       -0.003709  \n",
      "ps_ind_04_cat         0.000773        0.000916       -0.001966        0.001244  \n",
      "ps_ind_05_cat         0.000153        0.000032        0.000276        0.000279  \n",
      "ps_ind_06_bin        -0.000001       -0.000759        0.002791        0.000203  \n",
      "ps_ind_07_bin        -0.000517        0.000181       -0.001361       -0.000961  \n",
      "ps_ind_08_bin        -0.000579       -0.000068       -0.000919        0.000995  \n",
      "ps_ind_09_bin         0.001135        0.000815       -0.001103       -0.000123  \n",
      "ps_ind_10_bin         0.000345        0.000240        0.001555       -0.003390  \n",
      "ps_ind_11_bin         0.001064       -0.001102       -0.001241        0.000409  \n",
      "ps_ind_12_bin         0.001384       -0.001359       -0.001779        0.003166  \n",
      "ps_ind_13_bin        -0.002918       -0.000117        0.002079       -0.000981  \n",
      "ps_ind_14             0.000741       -0.001377       -0.001012        0.001783  \n",
      "ps_ind_15             0.001176       -0.001326        0.001744       -0.002040  \n",
      "ps_ind_16_bin        -0.000432        0.000093        0.000302        0.001519  \n",
      "ps_ind_17_bin        -0.000242        0.000047       -0.000776       -0.001923  \n",
      "ps_ind_18_bin         0.000064        0.000070       -0.000786        0.000724  \n",
      "ps_reg_01             0.001078        0.001962        0.001109        0.001739  \n",
      "ps_reg_02             0.002237        0.000445       -0.001137       -0.000658  \n",
      "ps_reg_03             0.001574        0.000915        0.000963       -0.000086  \n",
      "ps_car_01_cat         0.000402        0.000364        0.000520       -0.000561  \n",
      "ps_car_02_cat        -0.001078       -0.001151       -0.001430        0.000930  \n",
      "ps_car_03_cat        -0.002190       -0.001302       -0.000415        0.001422  \n",
      "ps_car_04_cat         0.000634        0.000128       -0.000320       -0.000530  \n",
      "ps_car_05_cat        -0.002815       -0.000885       -0.002418        0.000150  \n",
      "ps_car_06_cat         0.000136        0.000035       -0.002340       -0.000523  \n",
      "ps_car_07_cat         0.000586        0.000347        0.001780       -0.002369  \n",
      "ps_car_08_cat         0.001378       -0.001001        0.000379        0.000248  \n",
      "ps_car_09_cat        -0.000546        0.001641        0.001273        0.000546  \n",
      "ps_car_10_cat        -0.000512        0.000742       -0.000586        0.000238  \n",
      "ps_car_11_cat         0.002919       -0.000483       -0.000342        0.001513  \n",
      "ps_car_11            -0.000093        0.000930        0.002231        0.001280  \n",
      "ps_car_12            -0.000191        0.001790       -0.000313        0.000272  \n",
      "ps_car_13             0.000117        0.000175       -0.000012        0.000516  \n",
      "ps_car_14             0.002291        0.000471        0.000503       -0.000159  \n",
      "ps_car_15             0.001775       -0.000542        0.001066        0.000214  \n",
      "ps_calc_01           -0.000389        0.000457       -0.001304        0.001352  \n",
      "ps_calc_02           -0.000469        0.001247        0.000300       -0.001423  \n",
      "ps_calc_03           -0.001002       -0.001797        0.000524       -0.001326  \n",
      "ps_calc_04            0.001186        0.001109        0.000902        0.000146  \n",
      "ps_calc_05           -0.000985       -0.000406        0.000265        0.001494  \n",
      "ps_calc_06            0.000320        0.002005        0.001185        0.000864  \n",
      "ps_calc_07           -0.000327       -0.000311       -0.001183        0.000394  \n",
      "ps_calc_08           -0.000542        0.000202        0.000785       -0.000768  \n",
      "ps_calc_09           -0.000814       -0.001094        0.000444        0.000067  \n",
      "ps_calc_10            0.000366       -0.001618       -0.001302       -0.000336  \n",
      "ps_calc_11           -0.001235       -0.000960       -0.001377       -0.000164  \n",
      "ps_calc_12            0.003565        0.000084        0.001021       -0.000582  \n",
      "ps_calc_13           -0.000782        0.000564        0.001945       -0.001649  \n",
      "ps_calc_14           -0.001287       -0.001063       -0.000076       -0.000477  \n",
      "ps_calc_15_bin        0.001028       -0.000849        0.000835        0.002869  \n",
      "ps_calc_16_bin       -0.001670        0.000736        0.000077       -0.000085  \n",
      "ps_calc_17_bin        1.000000       -0.000826        0.000450        0.000966  \n",
      "ps_calc_18_bin       -0.000826        1.000000       -0.000257        0.000522  \n",
      "ps_calc_19_bin        0.000450       -0.000257        1.000000        0.000031  \n",
      "ps_calc_20_bin        0.000966        0.000522        0.000031        1.000000  \n",
      "\n",
      "[59 rows x 59 columns]\n"
     ]
    }
   ],
   "source": [
    "print train_df.corr()"
   ]
  },
  {
   "cell_type": "markdown",
   "metadata": {
    "collapsed": true
   },
   "source": [
    "## Feature Cleaning/Imputation\n",
    "### Missing Values"
   ]
  },
  {
   "cell_type": "code",
   "execution_count": 9,
   "metadata": {
    "collapsed": false
   },
   "outputs": [
    {
     "name": "stdout",
     "output_type": "stream",
     "text": [
      "ps_reg_01     0.000000\n",
      "ps_reg_02     0.000000\n",
      "ps_reg_03    -1.000000\n",
      "ps_car_12    -1.000000\n",
      "ps_car_13     0.250619\n",
      "ps_car_14    -1.000000\n",
      "ps_car_15     0.000000\n",
      "ps_calc_01    0.000000\n",
      "ps_calc_02    0.000000\n",
      "ps_calc_03    0.000000\n",
      "dtype: float64 ps_ind_02_cat   -1\n",
      "ps_ind_04_cat   -1\n",
      "ps_ind_05_cat   -1\n",
      "ps_car_01_cat   -1\n",
      "ps_car_02_cat   -1\n",
      "ps_car_03_cat   -1\n",
      "ps_car_04_cat    0\n",
      "ps_car_05_cat   -1\n",
      "ps_car_06_cat    0\n",
      "ps_car_07_cat   -1\n",
      "ps_car_08_cat    0\n",
      "ps_car_09_cat   -1\n",
      "ps_car_10_cat    0\n",
      "ps_car_11_cat    1\n",
      "dtype: int64 ps_ind_06_bin     0\n",
      "ps_ind_07_bin     0\n",
      "ps_ind_08_bin     0\n",
      "ps_ind_09_bin     0\n",
      "ps_ind_10_bin     0\n",
      "ps_ind_11_bin     0\n",
      "ps_ind_12_bin     0\n",
      "ps_ind_13_bin     0\n",
      "ps_ind_16_bin     0\n",
      "ps_ind_17_bin     0\n",
      "ps_ind_18_bin     0\n",
      "ps_calc_15_bin    0\n",
      "ps_calc_16_bin    0\n",
      "ps_calc_17_bin    0\n",
      "ps_calc_18_bin    0\n",
      "ps_calc_19_bin    0\n",
      "ps_calc_20_bin    0\n",
      "dtype: int64 ps_calc_04    0\n",
      "ps_calc_05    0\n",
      "ps_calc_06    0\n",
      "ps_calc_07    0\n",
      "ps_calc_08    2\n",
      "ps_calc_09    0\n",
      "ps_calc_10    0\n",
      "ps_calc_11    0\n",
      "ps_calc_12    0\n",
      "ps_calc_13    0\n",
      "ps_calc_14    0\n",
      "ps_car_11    -1\n",
      "ps_ind_01     0\n",
      "ps_ind_03     0\n",
      "ps_ind_14     0\n",
      "ps_ind_15     0\n",
      "dtype: int64\n"
     ]
    }
   ],
   "source": [
    "#Check which features have missing values\n",
    "print cont_df.min(), cat_df.min(), bin_df.min(), ord_df.min()\n",
    "\n",
    "#Replace continuous data with the mean\n",
    "cont_df = cont_df.replace(-1.0, cont_df.mean())\n",
    "#No missing values in bin and replace categorical and ordinal data with mode\n",
    "cat_mode = cat_df.replace(-1.0, np.NaN).mode()\n",
    "cat_df = cat_df.replace(-1.0, cat_mode)\n",
    "ord_mode = ord_df.replace(-1.0, np.NaN).mode()\n",
    "ord_df = ord_df.replace(-1.0, ord_mode)"
   ]
  },
  {
   "cell_type": "markdown",
   "metadata": {},
   "source": [
    "## Dataset Construction"
   ]
  },
  {
   "cell_type": "code",
   "execution_count": 10,
   "metadata": {
    "collapsed": false
   },
   "outputs": [],
   "source": [
    "#Concatenate fixed data sets\n",
    "train_x = pd.concat([cont_df, cat_df, bin_df, ord_df], axis=1)\n",
    "#Create testing set\n",
    "x_train, x_test, y_train, y_test = model_selection.train_test_split(train_x, train_y, test_size = 0.2, random_state = 1)\n",
    "#Create validation set, training set\n",
    "x_train, x_val, y_train, y_val = model_selection.train_test_split(train_x, train_y, test_size = 0.2, random_state = 2)"
   ]
  },
  {
   "cell_type": "markdown",
   "metadata": {},
   "source": [
    "## Model Selection/Tuning/Results"
   ]
  },
  {
   "cell_type": "code",
   "execution_count": 11,
   "metadata": {
    "collapsed": true
   },
   "outputs": [],
   "source": [
    "#Random Forests/AdaBoost Gradient Boosting Tree. Due to more accurate nature and the problem being a supervised regression."
   ]
  },
  {
   "cell_type": "code",
   "execution_count": 65,
   "metadata": {
    "collapsed": false
   },
   "outputs": [],
   "source": [
    "n_trees = 60\n",
    "max_feat = 3\n",
    "kfold = model_selection.KFold(n_splits = 10, random_state = 2)\n",
    "r_model = RandomForestClassifier(n_estimators = n_trees, max_features = max_feat)\n",
    "r_model.fit(x_train, y_train)\n",
    "results = model_selection.cross_val_score(r_model, x_train, y_train)"
   ]
  },
  {
   "cell_type": "code",
   "execution_count": 66,
   "metadata": {
    "collapsed": false
   },
   "outputs": [
    {
     "name": "stdout",
     "output_type": "stream",
     "text": [
      "[  2.47836167e-02   3.12827491e-02   4.67357841e-02   2.37328504e-02\n",
      "   5.01745087e-02   3.98496317e-02   2.71992692e-02   3.09240897e-02\n",
      "   3.08193641e-02   3.09099772e-02   1.15979590e-02   8.87936821e-03\n",
      "   9.55590275e-03   2.15719898e-02   4.74168570e-03   5.42154963e-03\n",
      "   7.52117370e-03   7.96872235e-03   2.51597583e-02   3.90637828e-03\n",
      "   5.29384149e-03   1.26784047e-02   1.27883670e-03   3.17792263e-02\n",
      "   4.70560224e-03   4.85029758e-03   4.97755362e-03   4.55441766e-03\n",
      "   7.81965219e-05   2.22748106e-04   1.05929416e-03   2.22057593e-04\n",
      "   6.30169740e-03   4.79939479e-03   4.70865005e-03   6.42371691e-03\n",
      "   9.75599784e-03   1.04941019e-02   9.34799148e-03   9.88636271e-03\n",
      "   7.03578749e-03   2.42480299e-02   2.44011593e-02   2.63668902e-02\n",
      "   2.76534199e-02   2.76655496e-02   2.57057628e-02   3.58446493e-02\n",
      "   3.35588355e-02   2.37092356e-02   2.92812070e-02   3.54194209e-02\n",
      "   1.26473847e-02   2.44686022e-02   3.25057679e-02   1.23504366e-03\n",
      "   3.20985355e-02]\n",
      "0.96357805737\n",
      "[[ 0.96666667  0.03333333]\n",
      " [ 0.98333333  0.01666667]\n",
      " [ 0.98333333  0.01666667]\n",
      " ..., \n",
      " [ 0.98333333  0.01666667]\n",
      " [ 1.          0.        ]\n",
      " [ 0.96666667  0.03333333]]\n"
     ]
    }
   ],
   "source": [
    "print r_model.feature_importances_\n",
    "print(results.mean())\n",
    "print r_model.predict_proba(x_test)"
   ]
  },
  {
   "cell_type": "code",
   "execution_count": 62,
   "metadata": {
    "collapsed": false
   },
   "outputs": [
    {
     "ename": "KeyError",
     "evalue": "'id'",
     "output_type": "error",
     "traceback": [
      "\u001b[0;31m---------------------------------------------------------------------------\u001b[0m",
      "\u001b[0;31mKeyError\u001b[0m                                  Traceback (most recent call last)",
      "\u001b[0;32m<ipython-input-62-b7d66fdf0b4b>\u001b[0m in \u001b[0;36m<module>\u001b[0;34m()\u001b[0m\n\u001b[0;32m----> 1\u001b[0;31m \u001b[0mid_col\u001b[0m \u001b[1;33m=\u001b[0m \u001b[0msubmit_df\u001b[0m\u001b[1;33m[\u001b[0m\u001b[1;34m'id'\u001b[0m\u001b[1;33m]\u001b[0m\u001b[1;33m\u001b[0m\u001b[0m\n\u001b[0m\u001b[1;32m      2\u001b[0m \u001b[0msubmit_df\u001b[0m \u001b[1;33m=\u001b[0m \u001b[0msubmit_df\u001b[0m\u001b[1;33m.\u001b[0m\u001b[0mdrop\u001b[0m\u001b[1;33m(\u001b[0m\u001b[1;34m'id'\u001b[0m\u001b[1;33m,\u001b[0m \u001b[0maxis\u001b[0m \u001b[1;33m=\u001b[0m\u001b[1;36m1\u001b[0m\u001b[1;33m)\u001b[0m\u001b[1;33m\u001b[0m\u001b[0m\n\u001b[1;32m      3\u001b[0m \u001b[1;32mprint\u001b[0m \u001b[0msubmit_df\u001b[0m\u001b[1;33m.\u001b[0m\u001b[0mmin\u001b[0m\u001b[1;33m(\u001b[0m\u001b[1;33m)\u001b[0m\u001b[1;33m\u001b[0m\u001b[0m\n\u001b[1;32m      4\u001b[0m \u001b[1;31m#interesting to note that there are missing values -1 in the submission file.\u001b[0m\u001b[1;33m\u001b[0m\u001b[1;33m\u001b[0m\u001b[0m\n\u001b[1;32m      5\u001b[0m \u001b[1;31m#May be worth noting that keeping the missing values may train the model to take into account\u001b[0m\u001b[1;33m\u001b[0m\u001b[1;33m\u001b[0m\u001b[0m\n",
      "\u001b[0;32mC:\\Users\\Nicholas\\Anaconda2\\lib\\site-packages\\pandas\\core\\frame.pyc\u001b[0m in \u001b[0;36m__getitem__\u001b[0;34m(self, key)\u001b[0m\n\u001b[1;32m   2057\u001b[0m             \u001b[1;32mreturn\u001b[0m \u001b[0mself\u001b[0m\u001b[1;33m.\u001b[0m\u001b[0m_getitem_multilevel\u001b[0m\u001b[1;33m(\u001b[0m\u001b[0mkey\u001b[0m\u001b[1;33m)\u001b[0m\u001b[1;33m\u001b[0m\u001b[0m\n\u001b[1;32m   2058\u001b[0m         \u001b[1;32melse\u001b[0m\u001b[1;33m:\u001b[0m\u001b[1;33m\u001b[0m\u001b[0m\n\u001b[0;32m-> 2059\u001b[0;31m             \u001b[1;32mreturn\u001b[0m \u001b[0mself\u001b[0m\u001b[1;33m.\u001b[0m\u001b[0m_getitem_column\u001b[0m\u001b[1;33m(\u001b[0m\u001b[0mkey\u001b[0m\u001b[1;33m)\u001b[0m\u001b[1;33m\u001b[0m\u001b[0m\n\u001b[0m\u001b[1;32m   2060\u001b[0m \u001b[1;33m\u001b[0m\u001b[0m\n\u001b[1;32m   2061\u001b[0m     \u001b[1;32mdef\u001b[0m \u001b[0m_getitem_column\u001b[0m\u001b[1;33m(\u001b[0m\u001b[0mself\u001b[0m\u001b[1;33m,\u001b[0m \u001b[0mkey\u001b[0m\u001b[1;33m)\u001b[0m\u001b[1;33m:\u001b[0m\u001b[1;33m\u001b[0m\u001b[0m\n",
      "\u001b[0;32mC:\\Users\\Nicholas\\Anaconda2\\lib\\site-packages\\pandas\\core\\frame.pyc\u001b[0m in \u001b[0;36m_getitem_column\u001b[0;34m(self, key)\u001b[0m\n\u001b[1;32m   2064\u001b[0m         \u001b[1;31m# get column\u001b[0m\u001b[1;33m\u001b[0m\u001b[1;33m\u001b[0m\u001b[0m\n\u001b[1;32m   2065\u001b[0m         \u001b[1;32mif\u001b[0m \u001b[0mself\u001b[0m\u001b[1;33m.\u001b[0m\u001b[0mcolumns\u001b[0m\u001b[1;33m.\u001b[0m\u001b[0mis_unique\u001b[0m\u001b[1;33m:\u001b[0m\u001b[1;33m\u001b[0m\u001b[0m\n\u001b[0;32m-> 2066\u001b[0;31m             \u001b[1;32mreturn\u001b[0m \u001b[0mself\u001b[0m\u001b[1;33m.\u001b[0m\u001b[0m_get_item_cache\u001b[0m\u001b[1;33m(\u001b[0m\u001b[0mkey\u001b[0m\u001b[1;33m)\u001b[0m\u001b[1;33m\u001b[0m\u001b[0m\n\u001b[0m\u001b[1;32m   2067\u001b[0m \u001b[1;33m\u001b[0m\u001b[0m\n\u001b[1;32m   2068\u001b[0m         \u001b[1;31m# duplicate columns & possible reduce dimensionality\u001b[0m\u001b[1;33m\u001b[0m\u001b[1;33m\u001b[0m\u001b[0m\n",
      "\u001b[0;32mC:\\Users\\Nicholas\\Anaconda2\\lib\\site-packages\\pandas\\core\\generic.pyc\u001b[0m in \u001b[0;36m_get_item_cache\u001b[0;34m(self, item)\u001b[0m\n\u001b[1;32m   1384\u001b[0m         \u001b[0mres\u001b[0m \u001b[1;33m=\u001b[0m \u001b[0mcache\u001b[0m\u001b[1;33m.\u001b[0m\u001b[0mget\u001b[0m\u001b[1;33m(\u001b[0m\u001b[0mitem\u001b[0m\u001b[1;33m)\u001b[0m\u001b[1;33m\u001b[0m\u001b[0m\n\u001b[1;32m   1385\u001b[0m         \u001b[1;32mif\u001b[0m \u001b[0mres\u001b[0m \u001b[1;32mis\u001b[0m \u001b[0mNone\u001b[0m\u001b[1;33m:\u001b[0m\u001b[1;33m\u001b[0m\u001b[0m\n\u001b[0;32m-> 1386\u001b[0;31m             \u001b[0mvalues\u001b[0m \u001b[1;33m=\u001b[0m \u001b[0mself\u001b[0m\u001b[1;33m.\u001b[0m\u001b[0m_data\u001b[0m\u001b[1;33m.\u001b[0m\u001b[0mget\u001b[0m\u001b[1;33m(\u001b[0m\u001b[0mitem\u001b[0m\u001b[1;33m)\u001b[0m\u001b[1;33m\u001b[0m\u001b[0m\n\u001b[0m\u001b[1;32m   1387\u001b[0m             \u001b[0mres\u001b[0m \u001b[1;33m=\u001b[0m \u001b[0mself\u001b[0m\u001b[1;33m.\u001b[0m\u001b[0m_box_item_values\u001b[0m\u001b[1;33m(\u001b[0m\u001b[0mitem\u001b[0m\u001b[1;33m,\u001b[0m \u001b[0mvalues\u001b[0m\u001b[1;33m)\u001b[0m\u001b[1;33m\u001b[0m\u001b[0m\n\u001b[1;32m   1388\u001b[0m             \u001b[0mcache\u001b[0m\u001b[1;33m[\u001b[0m\u001b[0mitem\u001b[0m\u001b[1;33m]\u001b[0m \u001b[1;33m=\u001b[0m \u001b[0mres\u001b[0m\u001b[1;33m\u001b[0m\u001b[0m\n",
      "\u001b[0;32mC:\\Users\\Nicholas\\Anaconda2\\lib\\site-packages\\pandas\\core\\internals.pyc\u001b[0m in \u001b[0;36mget\u001b[0;34m(self, item, fastpath)\u001b[0m\n\u001b[1;32m   3541\u001b[0m \u001b[1;33m\u001b[0m\u001b[0m\n\u001b[1;32m   3542\u001b[0m             \u001b[1;32mif\u001b[0m \u001b[1;32mnot\u001b[0m \u001b[0misnull\u001b[0m\u001b[1;33m(\u001b[0m\u001b[0mitem\u001b[0m\u001b[1;33m)\u001b[0m\u001b[1;33m:\u001b[0m\u001b[1;33m\u001b[0m\u001b[0m\n\u001b[0;32m-> 3543\u001b[0;31m                 \u001b[0mloc\u001b[0m \u001b[1;33m=\u001b[0m \u001b[0mself\u001b[0m\u001b[1;33m.\u001b[0m\u001b[0mitems\u001b[0m\u001b[1;33m.\u001b[0m\u001b[0mget_loc\u001b[0m\u001b[1;33m(\u001b[0m\u001b[0mitem\u001b[0m\u001b[1;33m)\u001b[0m\u001b[1;33m\u001b[0m\u001b[0m\n\u001b[0m\u001b[1;32m   3544\u001b[0m             \u001b[1;32melse\u001b[0m\u001b[1;33m:\u001b[0m\u001b[1;33m\u001b[0m\u001b[0m\n\u001b[1;32m   3545\u001b[0m                 \u001b[0mindexer\u001b[0m \u001b[1;33m=\u001b[0m \u001b[0mnp\u001b[0m\u001b[1;33m.\u001b[0m\u001b[0marange\u001b[0m\u001b[1;33m(\u001b[0m\u001b[0mlen\u001b[0m\u001b[1;33m(\u001b[0m\u001b[0mself\u001b[0m\u001b[1;33m.\u001b[0m\u001b[0mitems\u001b[0m\u001b[1;33m)\u001b[0m\u001b[1;33m)\u001b[0m\u001b[1;33m[\u001b[0m\u001b[0misnull\u001b[0m\u001b[1;33m(\u001b[0m\u001b[0mself\u001b[0m\u001b[1;33m.\u001b[0m\u001b[0mitems\u001b[0m\u001b[1;33m)\u001b[0m\u001b[1;33m]\u001b[0m\u001b[1;33m\u001b[0m\u001b[0m\n",
      "\u001b[0;32mC:\\Users\\Nicholas\\Anaconda2\\lib\\site-packages\\pandas\\indexes\\base.pyc\u001b[0m in \u001b[0;36mget_loc\u001b[0;34m(self, key, method, tolerance)\u001b[0m\n\u001b[1;32m   2134\u001b[0m                 \u001b[1;32mreturn\u001b[0m \u001b[0mself\u001b[0m\u001b[1;33m.\u001b[0m\u001b[0m_engine\u001b[0m\u001b[1;33m.\u001b[0m\u001b[0mget_loc\u001b[0m\u001b[1;33m(\u001b[0m\u001b[0mkey\u001b[0m\u001b[1;33m)\u001b[0m\u001b[1;33m\u001b[0m\u001b[0m\n\u001b[1;32m   2135\u001b[0m             \u001b[1;32mexcept\u001b[0m \u001b[0mKeyError\u001b[0m\u001b[1;33m:\u001b[0m\u001b[1;33m\u001b[0m\u001b[0m\n\u001b[0;32m-> 2136\u001b[0;31m                 \u001b[1;32mreturn\u001b[0m \u001b[0mself\u001b[0m\u001b[1;33m.\u001b[0m\u001b[0m_engine\u001b[0m\u001b[1;33m.\u001b[0m\u001b[0mget_loc\u001b[0m\u001b[1;33m(\u001b[0m\u001b[0mself\u001b[0m\u001b[1;33m.\u001b[0m\u001b[0m_maybe_cast_indexer\u001b[0m\u001b[1;33m(\u001b[0m\u001b[0mkey\u001b[0m\u001b[1;33m)\u001b[0m\u001b[1;33m)\u001b[0m\u001b[1;33m\u001b[0m\u001b[0m\n\u001b[0m\u001b[1;32m   2137\u001b[0m \u001b[1;33m\u001b[0m\u001b[0m\n\u001b[1;32m   2138\u001b[0m         \u001b[0mindexer\u001b[0m \u001b[1;33m=\u001b[0m \u001b[0mself\u001b[0m\u001b[1;33m.\u001b[0m\u001b[0mget_indexer\u001b[0m\u001b[1;33m(\u001b[0m\u001b[1;33m[\u001b[0m\u001b[0mkey\u001b[0m\u001b[1;33m]\u001b[0m\u001b[1;33m,\u001b[0m \u001b[0mmethod\u001b[0m\u001b[1;33m=\u001b[0m\u001b[0mmethod\u001b[0m\u001b[1;33m,\u001b[0m \u001b[0mtolerance\u001b[0m\u001b[1;33m=\u001b[0m\u001b[0mtolerance\u001b[0m\u001b[1;33m)\u001b[0m\u001b[1;33m\u001b[0m\u001b[0m\n",
      "\u001b[0;32mpandas\\index.pyx\u001b[0m in \u001b[0;36mpandas.index.IndexEngine.get_loc (pandas\\index.c:4433)\u001b[0;34m()\u001b[0m\n",
      "\u001b[0;32mpandas\\index.pyx\u001b[0m in \u001b[0;36mpandas.index.IndexEngine.get_loc (pandas\\index.c:4279)\u001b[0;34m()\u001b[0m\n",
      "\u001b[0;32mpandas\\src\\hashtable_class_helper.pxi\u001b[0m in \u001b[0;36mpandas.hashtable.PyObjectHashTable.get_item (pandas\\hashtable.c:13742)\u001b[0;34m()\u001b[0m\n",
      "\u001b[0;32mpandas\\src\\hashtable_class_helper.pxi\u001b[0m in \u001b[0;36mpandas.hashtable.PyObjectHashTable.get_item (pandas\\hashtable.c:13696)\u001b[0;34m()\u001b[0m\n",
      "\u001b[0;31mKeyError\u001b[0m: 'id'"
     ]
    }
   ],
   "source": [
    "id_col = submit_df['id']\n",
    "submit_df = submit_df.drop('id', axis =1)\n",
    "print submit_df.min()\n",
    "#interesting to note that there are missing values -1 in the submission file.\n",
    "#May be worth noting that keeping the missing values may train the model to take into account\n",
    "#missing values"
   ]
  },
  {
   "cell_type": "code",
   "execution_count": 67,
   "metadata": {
    "collapsed": false
   },
   "outputs": [
    {
     "name": "stdout",
     "output_type": "stream",
     "text": [
      "<type 'numpy.ndarray'>\n"
     ]
    }
   ],
   "source": [
    "predictions = r_model.predict_proba(submit_df)\n",
    "print type(predictions)"
   ]
  },
  {
   "cell_type": "code",
   "execution_count": 68,
   "metadata": {
    "collapsed": false
   },
   "outputs": [
    {
     "name": "stdout",
     "output_type": "stream",
     "text": [
      "[0 1]\n"
     ]
    }
   ],
   "source": [
    "print r_model.classes_\n",
    "predict_true = predictions[:,1]\n",
    "predict_df = pd.DataFrame({'id': id_col,'target': predict_true})\n",
    "predict_df.to_csv('Data/submission.csv', index=False)"
   ]
  },
  {
   "cell_type": "code",
   "execution_count": null,
   "metadata": {
    "collapsed": true
   },
   "outputs": [],
   "source": []
  }
 ],
 "metadata": {
  "anaconda-cloud": {},
  "kernelspec": {
   "display_name": "Python [conda root]",
   "language": "python",
   "name": "conda-root-py"
  },
  "language_info": {
   "codemirror_mode": {
    "name": "ipython",
    "version": 2
   },
   "file_extension": ".py",
   "mimetype": "text/x-python",
   "name": "python",
   "nbconvert_exporter": "python",
   "pygments_lexer": "ipython2",
   "version": "2.7.12"
  }
 },
 "nbformat": 4,
 "nbformat_minor": 2
}
